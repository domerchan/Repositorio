{
 "cells": [
  {
   "cell_type": "markdown",
   "metadata": {},
   "source": [
    "<div style=\"width: 50%; float: left\">\n",
    "    <img src=\"../../../../ups.png\" width=\"217\" align=\"center\">\n",
    "    <br>\n",
    "    <strong>CARRERA: </strong> Computación1\n",
    "    <br>\n",
    "    <strong>NRO. PRÁCTICA: </strong>2\n",
    "    <br>\n",
    "    <br>\n",
    "</div>\n",
    "<div style=\"width: 50%; float: left\">\n",
    "    <br>\n",
    "    <strong align=\"center\">PRÁCTICA DE LABORATORIO</strong>\n",
    "    <br>\n",
    "    <br>\n",
    "    <br>\n",
    "    <strong>ASIGNATURA: </strong>Simulación\n",
    "    <br>\n",
    "    <strong>TÍTULO PRÁCTICA: </strong>Regresión casos COVID\n",
    "    <br>\n",
    "    <br>\n",
    "</div>\n",
    "<strong><center>ACTIVIDADES DESARROLLADAS</center></strong>"
   ]
  },
  {
   "cell_type": "markdown",
   "metadata": {},
   "source": [
    "**1. Generar un modelo de regresión de los casos confirmados de COVID en el Ecuador. Deberá predecir el comportamiento de la pandemia en tres etapas:\n",
    "    - Confinamiento\n",
    "    - Toques de queda\n",
    "    - Feriados**"
   ]
  },
  {
   "cell_type": "code",
   "execution_count": 1,
   "metadata": {},
   "outputs": [],
   "source": [
    "import pandas as pd\n",
    "import numpy as np\n",
    "from matplotlib import pyplot as plt\n",
    "from datetime import datetime,timedelta\n",
    "from sklearn.model_selection import train_test_split as tts\n",
    "from sklearn.linear_model import LinearRegression \n",
    "#from sklearn.pipeline import Pipeline\n",
    "from sklearn.metrics import mean_absolute_error"
   ]
  },
  {
   "cell_type": "code",
   "execution_count": 2,
   "metadata": {},
   "outputs": [
    {
     "data": {
      "text/html": [
       "<div>\n",
       "<style scoped>\n",
       "    .dataframe tbody tr th:only-of-type {\n",
       "        vertical-align: middle;\n",
       "    }\n",
       "\n",
       "    .dataframe tbody tr th {\n",
       "        vertical-align: top;\n",
       "    }\n",
       "\n",
       "    .dataframe thead th {\n",
       "        text-align: right;\n",
       "    }\n",
       "</style>\n",
       "<table border=\"1\" class=\"dataframe\">\n",
       "  <thead>\n",
       "    <tr style=\"text-align: right;\">\n",
       "      <th></th>\n",
       "      <th>location</th>\n",
       "      <th>date</th>\n",
       "      <th>total_cases</th>\n",
       "      <th>new_cases</th>\n",
       "    </tr>\n",
       "  </thead>\n",
       "  <tbody>\n",
       "    <tr>\n",
       "      <th>22301</th>\n",
       "      <td>Ecuador</td>\n",
       "      <td>61</td>\n",
       "      <td>6.0</td>\n",
       "      <td>6.0</td>\n",
       "    </tr>\n",
       "    <tr>\n",
       "      <th>22303</th>\n",
       "      <td>Ecuador</td>\n",
       "      <td>63</td>\n",
       "      <td>7.0</td>\n",
       "      <td>1.0</td>\n",
       "    </tr>\n",
       "    <tr>\n",
       "      <th>22304</th>\n",
       "      <td>Ecuador</td>\n",
       "      <td>64</td>\n",
       "      <td>10.0</td>\n",
       "      <td>3.0</td>\n",
       "    </tr>\n",
       "    <tr>\n",
       "      <th>22305</th>\n",
       "      <td>Ecuador</td>\n",
       "      <td>65</td>\n",
       "      <td>13.0</td>\n",
       "      <td>3.0</td>\n",
       "    </tr>\n",
       "    <tr>\n",
       "      <th>22308</th>\n",
       "      <td>Ecuador</td>\n",
       "      <td>68</td>\n",
       "      <td>14.0</td>\n",
       "      <td>1.0</td>\n",
       "    </tr>\n",
       "    <tr>\n",
       "      <th>...</th>\n",
       "      <td>...</td>\n",
       "      <td>...</td>\n",
       "      <td>...</td>\n",
       "      <td>...</td>\n",
       "    </tr>\n",
       "    <tr>\n",
       "      <th>22719</th>\n",
       "      <td>Ecuador</td>\n",
       "      <td>479</td>\n",
       "      <td>371306.0</td>\n",
       "      <td>5913.0</td>\n",
       "    </tr>\n",
       "    <tr>\n",
       "      <th>22720</th>\n",
       "      <td>Ecuador</td>\n",
       "      <td>480</td>\n",
       "      <td>372754.0</td>\n",
       "      <td>1448.0</td>\n",
       "    </tr>\n",
       "    <tr>\n",
       "      <th>22721</th>\n",
       "      <td>Ecuador</td>\n",
       "      <td>481</td>\n",
       "      <td>373362.0</td>\n",
       "      <td>608.0</td>\n",
       "    </tr>\n",
       "    <tr>\n",
       "      <th>22722</th>\n",
       "      <td>Ecuador</td>\n",
       "      <td>482</td>\n",
       "      <td>374775.0</td>\n",
       "      <td>1413.0</td>\n",
       "    </tr>\n",
       "    <tr>\n",
       "      <th>22723</th>\n",
       "      <td>Ecuador</td>\n",
       "      <td>483</td>\n",
       "      <td>375329.0</td>\n",
       "      <td>554.0</td>\n",
       "    </tr>\n",
       "  </tbody>\n",
       "</table>\n",
       "<p>396 rows × 4 columns</p>\n",
       "</div>"
      ],
      "text/plain": [
       "      location  date  total_cases  new_cases\n",
       "22301  Ecuador    61          6.0        6.0\n",
       "22303  Ecuador    63          7.0        1.0\n",
       "22304  Ecuador    64         10.0        3.0\n",
       "22305  Ecuador    65         13.0        3.0\n",
       "22308  Ecuador    68         14.0        1.0\n",
       "...        ...   ...          ...        ...\n",
       "22719  Ecuador   479     371306.0     5913.0\n",
       "22720  Ecuador   480     372754.0     1448.0\n",
       "22721  Ecuador   481     373362.0      608.0\n",
       "22722  Ecuador   482     374775.0     1413.0\n",
       "22723  Ecuador   483     375329.0      554.0\n",
       "\n",
       "[396 rows x 4 columns]"
      ]
     },
     "execution_count": 2,
     "metadata": {},
     "output_type": "execute_result"
    }
   ],
   "source": [
    "df = pd.read_csv('owid-covid-data.csv')\n",
    "df = df.loc[:, ['location', 'date', 'total_cases', 'new_cases']]\n",
    "df = df[df['location']=='Ecuador']\n",
    "df = df[df['new_cases']>0]\n",
    "FMT = '%Y-%m-%d'\n",
    "date = df['date']\n",
    "df['date'] = date.map(lambda x : (datetime.strptime(x, FMT) - datetime.strptime(\"2019-12-31\", FMT)).days)\n",
    "df"
   ]
  },
  {
   "cell_type": "code",
   "execution_count": 3,
   "metadata": {},
   "outputs": [
    {
     "data": {
      "image/png": "[encoded data removed]",
      "text/plain": [
       "<Figure size 936x360 with 1 Axes>"
      ]
     },
     "metadata": {
      "needs_background": "light"
     },
     "output_type": "display_data"
    }
   ],
   "source": [
    "plt.figure(figsize=(13,5))\n",
    "plt.grid(True)\n",
    "plt.plot(df['date'], df['total_cases'])\n",
    "#plt.plot(df['date'], df['new_cases'])\n",
    "plt.show()"
   ]
  },
  {
   "cell_type": "code",
   "execution_count": 4,
   "metadata": {},
   "outputs": [],
   "source": [
    "xtrain, xtest, ytrain, ytest = tts(df['date'], df['total_cases'], test_size=0.2)"
   ]
  },
  {
   "cell_type": "code",
   "execution_count": 5,
   "metadata": {},
   "outputs": [],
   "source": [
    "model = LinearRegression()\n",
    "model.fit(np.array(xtrain).reshape(-1, 1), ytrain)\n",
    "p = np.poly1d(np.polyfit(xtrain, ytrain, 4))"
   ]
  },
  {
   "cell_type": "code",
   "execution_count": 6,
   "metadata": {},
   "outputs": [
    {
     "data": {
      "image/png": "[encoded data removed]",
      "text/plain": [
       "<Figure size 936x360 with 1 Axes>"
      ]
     },
     "metadata": {
      "needs_background": "light"
     },
     "output_type": "display_data"
    }
   ],
   "source": [
    "pred_x = list(range(min(df['date']),max(df['date'])+50)) # Predecir 50 dias mas\n",
    "Lpred_y = model.predict(np.array(pred_x).reshape(-1, 1))\n",
    "Ppred_y = p(pred_x)\n",
    "\n",
    "plt.figure(figsize=(13,5))\n",
    "plt.grid(True)\n",
    "\n",
    "plt.plot(df['date'], df['total_cases'], '.-', label='Datos reales')\n",
    "plt.plot(pred_x, Lpred_y, '--', label='Regresión lineal')\n",
    "plt.plot(pred_x, Ppred_y, '--', label='Regresión polinómica')\n",
    "\n",
    "plt.legend(loc='upper left')\n",
    "plt.show()"
   ]
  },
  {
   "cell_type": "code",
   "execution_count": 14,
   "metadata": {},
   "outputs": [
    {
     "data": {
      "text/plain": [
       "11487.386015974622"
      ]
     },
     "execution_count": 14,
     "metadata": {},
     "output_type": "execute_result"
    }
   ],
   "source": [
    "mean_absolute_error(ytest, model.predict(np.array(xtest).reshape(-1, 1)))"
   ]
  },
  {
   "cell_type": "code",
   "execution_count": 11,
   "metadata": {},
   "outputs": [
    {
     "data": {
      "text/plain": [
       "2424.197703589044"
      ]
     },
     "execution_count": 11,
     "metadata": {},
     "output_type": "execute_result"
    }
   ],
   "source": [
    "mean_absolute_error(ytest, p(xtest))"
   ]
  },
  {
   "cell_type": "code",
   "execution_count": null,
   "metadata": {},
   "outputs": [],
   "source": []
  },
  {
   "cell_type": "code",
   "execution_count": 7,
   "metadata": {},
   "outputs": [
    {
     "data": {
      "text/html": [
       "<div>\n",
       "<style scoped>\n",
       "    .dataframe tbody tr th:only-of-type {\n",
       "        vertical-align: middle;\n",
       "    }\n",
       "\n",
       "    .dataframe tbody tr th {\n",
       "        vertical-align: top;\n",
       "    }\n",
       "\n",
       "    .dataframe thead th {\n",
       "        text-align: right;\n",
       "    }\n",
       "</style>\n",
       "<table border=\"1\" class=\"dataframe\">\n",
       "  <thead>\n",
       "    <tr style=\"text-align: right;\">\n",
       "      <th></th>\n",
       "      <th>location</th>\n",
       "      <th>date</th>\n",
       "      <th>total_vaccinations</th>\n",
       "      <th>people_vaccinated</th>\n",
       "      <th>people_fully_vaccinated</th>\n",
       "      <th>daily_vaccinations</th>\n",
       "    </tr>\n",
       "  </thead>\n",
       "  <tbody>\n",
       "    <tr>\n",
       "      <th>3811</th>\n",
       "      <td>Ecuador</td>\n",
       "      <td>387</td>\n",
       "      <td>0.0</td>\n",
       "      <td>0.0</td>\n",
       "      <td>NaN</td>\n",
       "      <td>NaN</td>\n",
       "    </tr>\n",
       "    <tr>\n",
       "      <th>3812</th>\n",
       "      <td>Ecuador</td>\n",
       "      <td>388</td>\n",
       "      <td>108.0</td>\n",
       "      <td>108.0</td>\n",
       "      <td>NaN</td>\n",
       "      <td>108.0</td>\n",
       "    </tr>\n",
       "    <tr>\n",
       "      <th>3813</th>\n",
       "      <td>Ecuador</td>\n",
       "      <td>389</td>\n",
       "      <td>NaN</td>\n",
       "      <td>NaN</td>\n",
       "      <td>NaN</td>\n",
       "      <td>341.0</td>\n",
       "    </tr>\n",
       "    <tr>\n",
       "      <th>3814</th>\n",
       "      <td>Ecuador</td>\n",
       "      <td>390</td>\n",
       "      <td>NaN</td>\n",
       "      <td>NaN</td>\n",
       "      <td>NaN</td>\n",
       "      <td>419.0</td>\n",
       "    </tr>\n",
       "    <tr>\n",
       "      <th>3815</th>\n",
       "      <td>Ecuador</td>\n",
       "      <td>391</td>\n",
       "      <td>NaN</td>\n",
       "      <td>NaN</td>\n",
       "      <td>NaN</td>\n",
       "      <td>458.0</td>\n",
       "    </tr>\n",
       "    <tr>\n",
       "      <th>...</th>\n",
       "      <td>...</td>\n",
       "      <td>...</td>\n",
       "      <td>...</td>\n",
       "      <td>...</td>\n",
       "      <td>...</td>\n",
       "      <td>...</td>\n",
       "    </tr>\n",
       "    <tr>\n",
       "      <th>3901</th>\n",
       "      <td>Ecuador</td>\n",
       "      <td>477</td>\n",
       "      <td>643702.0</td>\n",
       "      <td>457403.0</td>\n",
       "      <td>186299.0</td>\n",
       "      <td>23249.0</td>\n",
       "    </tr>\n",
       "    <tr>\n",
       "      <th>3902</th>\n",
       "      <td>Ecuador</td>\n",
       "      <td>478</td>\n",
       "      <td>675510.0</td>\n",
       "      <td>486524.0</td>\n",
       "      <td>188986.0</td>\n",
       "      <td>27197.0</td>\n",
       "    </tr>\n",
       "    <tr>\n",
       "      <th>3903</th>\n",
       "      <td>Ecuador</td>\n",
       "      <td>479</td>\n",
       "      <td>711204.0</td>\n",
       "      <td>514854.0</td>\n",
       "      <td>196350.0</td>\n",
       "      <td>28150.0</td>\n",
       "    </tr>\n",
       "    <tr>\n",
       "      <th>3904</th>\n",
       "      <td>Ecuador</td>\n",
       "      <td>480</td>\n",
       "      <td>732717.0</td>\n",
       "      <td>532367.0</td>\n",
       "      <td>200350.0</td>\n",
       "      <td>26798.0</td>\n",
       "    </tr>\n",
       "    <tr>\n",
       "      <th>3905</th>\n",
       "      <td>Ecuador</td>\n",
       "      <td>481</td>\n",
       "      <td>743937.0</td>\n",
       "      <td>541420.0</td>\n",
       "      <td>202517.0</td>\n",
       "      <td>27081.0</td>\n",
       "    </tr>\n",
       "  </tbody>\n",
       "</table>\n",
       "<p>95 rows × 6 columns</p>\n",
       "</div>"
      ],
      "text/plain": [
       "     location  date  total_vaccinations  people_vaccinated  \\\n",
       "3811  Ecuador   387                 0.0                0.0   \n",
       "3812  Ecuador   388               108.0              108.0   \n",
       "3813  Ecuador   389                 NaN                NaN   \n",
       "3814  Ecuador   390                 NaN                NaN   \n",
       "3815  Ecuador   391                 NaN                NaN   \n",
       "...       ...   ...                 ...                ...   \n",
       "3901  Ecuador   477            643702.0           457403.0   \n",
       "3902  Ecuador   478            675510.0           486524.0   \n",
       "3903  Ecuador   479            711204.0           514854.0   \n",
       "3904  Ecuador   480            732717.0           532367.0   \n",
       "3905  Ecuador   481            743937.0           541420.0   \n",
       "\n",
       "      people_fully_vaccinated  daily_vaccinations  \n",
       "3811                      NaN                 NaN  \n",
       "3812                      NaN               108.0  \n",
       "3813                      NaN               341.0  \n",
       "3814                      NaN               419.0  \n",
       "3815                      NaN               458.0  \n",
       "...                       ...                 ...  \n",
       "3901                 186299.0             23249.0  \n",
       "3902                 188986.0             27197.0  \n",
       "3903                 196350.0             28150.0  \n",
       "3904                 200350.0             26798.0  \n",
       "3905                 202517.0             27081.0  \n",
       "\n",
       "[95 rows x 6 columns]"
      ]
     },
     "execution_count": 7,
     "metadata": {},
     "output_type": "execute_result"
    }
   ],
   "source": [
    "df_vac = pd.read_csv('vaccinations.csv').loc[:,['location', 'date', 'total_vaccinations', 'people_vaccinated', 'people_fully_vaccinated', 'daily_vaccinations']]\n",
    "df_vac = df_vac[df_vac['location']=='Ecuador']\n",
    "df_vac.fillna(0)\n",
    "FMT = '%Y-%m-%d'\n",
    "date = df_vac['date']\n",
    "df_vac['date'] = date.map(lambda x : (datetime.strptime(x, FMT) - datetime.strptime(\"2019-12-31\", FMT)).days)\n",
    "df_vac"
   ]
  },
  {
   "cell_type": "code",
   "execution_count": 8,
   "metadata": {},
   "outputs": [],
   "source": [
    "feriados = pd.DataFrame({'date': ['2020-02-24', '2020-02-25', '2020-04-10', '2020-05-1', '2020-05-25', '2020-08-10', '2020-10-09', '2020-11-02', '2020-11-03', '2020-12-25']})\n",
    "FMT = '%Y-%m-%d'\n",
    "date = feriados['date']\n",
    "feriados['date'] = date.map(lambda x : (datetime.strptime(x, FMT) - datetime.strptime(\"2019-12-31\", FMT)).days)"
   ]
  },
  {
   "cell_type": "code",
   "execution_count": 9,
   "metadata": {},
   "outputs": [
    {
     "data": {
      "image/png": "[encoded data removed]",
      "text/plain": [
       "<Figure size 936x360 with 1 Axes>"
      ]
     },
     "metadata": {
      "needs_background": "light"
     },
     "output_type": "display_data"
    }
   ],
   "source": [
    "plt.figure(figsize=(13,5))\n",
    "plt.grid(True)\n",
    "#plt.plot(df['date'], df['new_cases'])\n",
    "plt.plot(df['date'], df['total_cases'])\n",
    "plt.plot(df_vac['date'], df_vac['daily_vaccinations'])\n",
    "#plt.vlines(feriados['date'], 0, 10000, colors='green', linestyles='dashed')\n",
    "plt.show()"
   ]
  },
  {
   "cell_type": "code",
   "execution_count": null,
   "metadata": {},
   "outputs": [],
   "source": []
  }
 ],
 "metadata": {
  "kernelspec": {
   "display_name": "Python 3",
   "language": "python",
   "name": "python3"
  },
  "language_info": {
   "codemirror_mode": {
    "name": "ipython",
    "version": 3
   },
   "file_extension": ".py",
   "mimetype": "text/x-python",
   "name": "python",
   "nbconvert_exporter": "python",
   "pygments_lexer": "ipython3",
   "version": "3.8.5"
  }
 },
 "nbformat": 4,
 "nbformat_minor": 4
}
