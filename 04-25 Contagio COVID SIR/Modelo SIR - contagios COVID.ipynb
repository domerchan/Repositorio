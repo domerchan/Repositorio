{
 "cells": [
  {
   "cell_type": "markdown",
   "metadata": {},
   "source": [
    "<div style=\"width: 50%; float: left\">\n",
    "    <img src=\"../ups2.png\" width=\"217\" align=\"center\">\n",
    "    <br>\n",
    "    <strong>CARRERA: </strong> Computación\n",
    "    <br>\n",
    "    <strong>NRO. PRÁCTICA: </strong>3\n",
    "    <br>\n",
    "    <strong>ESTUDIANTE: </strong>Doménica Merchán García\n",
    "    <br>\n",
    "</div>\n",
    "<div style=\"width: 50%; float: left\">\n",
    "    <br>\n",
    "    <strong align=\"center\">PRÁCTICA DE LABORATORIO</strong>\n",
    "    <br>\n",
    "    <br>\n",
    "    <br>\n",
    "    <strong>ASIGNATURA: </strong>Simulación\n",
    "    <br>\n",
    "    <strong>TÍTULO: </strong>Modelo para contagio de COVID en Ecuador\n",
    "    <br>\n",
    "    <br>\n",
    "    <br>\n",
    "</div>\n",
    "<strong><center>ACTIVIDADES DESARROLLADAS</center></strong>"
   ]
  },
  {
   "cell_type": "code",
   "execution_count": 5,
   "metadata": {},
   "outputs": [],
   "source": [
    "import pandas as pd\n",
    "import numpy as np\n",
    "import matplotlib.pyplot as plt\n",
    "from scipy.integrate import odeint"
   ]
  },
  {
   "cell_type": "markdown",
   "metadata": {},
   "source": [
    "Primero se inicializan las variables de entrada, donde:\n",
    "\n",
    "- P es la población del Ecuador\n",
    "- I0 es la cantidad de infectados\n",
    "- R0 es la cantidad de recuperados\n",
    "- S0 es la población menos los infectados menos los recuperados\n",
    "- beta es la taza de contagio\n",
    "- gamma es la taza de recuperación\n",
    "\n",
    "De acuerdo con el Banco de Datos Mundial, el Ecuador en 2021 tendría una población de 17370000 habitantes [1]. La cantidad de casos confirmados en el país es de 427690 y los pacientes recuperados son 375151 de acuerdo con el Ministerio de Salud Pública [2]."
   ]
  },
  {
   "cell_type": "code",
   "execution_count": 3,
   "metadata": {},
   "outputs": [],
   "source": [
    "P = 17370000\n",
    "I0 = 427690\n",
    "R0 = 375151\n",
    "S0 = P - I0 - R0\n",
    "beta = 0.4\n",
    "gamma = 1/10\n",
    "t = np.linspace(0, 365, 365)"
   ]
  },
  {
   "cell_type": "markdown",
   "metadata": {},
   "source": [
    "Se crea un método para resolver ecuaciones diferenciales del model SIR."
   ]
  },
  {
   "cell_type": "code",
   "execution_count": 4,
   "metadata": {},
   "outputs": [],
   "source": [
    "def deriv(y, t, N, beta, gamma):\n",
    "    S, I, R = y\n",
    "    dSdt = -beta * S * I / N\n",
    "    dIdt = beta * S * I / N - gamma * I\n",
    "    dRdt = gamma * I\n",
    "    return dSdt, dIdt, dRdt"
   ]
  },
  {
   "cell_type": "code",
   "execution_count": 7,
   "metadata": {},
   "outputs": [],
   "source": [
    "y0 = S0, I0, R0\n",
    "ret = odeint(deriv, y0, t, args=(P, beta, gamma))\n",
    "S, I, R = ret.T"
   ]
  },
  {
   "cell_type": "code",
   "execution_count": 9,
   "metadata": {},
   "outputs": [
    {
     "data": {
      "image/png": "[encoded data removed]",
      "text/plain": [
       "<Figure size 432x288 with 1 Axes>"
      ]
     },
     "metadata": {
      "needs_background": "light"
     },
     "output_type": "display_data"
    }
   ],
   "source": [
    "plt.plot(t, S, label = 'Infección')\n",
    "plt.plot(t, I, label = 'Infectados')\n",
    "plt.plot(t, R, label = 'Recuperados')\n",
    "plt.xlabel('Días')\n",
    "plt.ylabel('Personas')\n",
    "plt.grid(True)\n",
    "plt.legend()\n",
    "plt.show()"
   ]
  },
  {
   "cell_type": "markdown",
   "metadata": {},
   "source": [
    "[1] https://datatopics.worldbank.org/world-development-indicators/\n",
    "\n",
    "[2] https://www.salud.gob.ec/actualizacion-de-casos-de-coronavirus-en-ecuador/"
   ]
  }
 ],
 "metadata": {
  "kernelspec": {
   "display_name": "Python 3",
   "language": "python",
   "name": "python3"
  },
  "language_info": {
   "codemirror_mode": {
    "name": "ipython",
    "version": 3
   },
   "file_extension": ".py",
   "mimetype": "text/x-python",
   "name": "python",
   "nbconvert_exporter": "python",
   "pygments_lexer": "ipython3",
   "version": "3.8.5"
  }
 },
 "nbformat": 4,
 "nbformat_minor": 4
}
