{
 "cells": [
  {
   "cell_type": "markdown",
   "metadata": {},
   "source": [
    "<div style=\"width: 50%; float: left\">\n",
    "    <img src=\"../ups2.png\" width=\"217\" align=\"center\">\n",
    "    <br>\n",
    "    <strong>CARRERA: </strong> Computación\n",
    "    <br>\n",
    "    <strong>NRO. PRÁCTICA: </strong>4\n",
    "    <br>\n",
    "    <strong>ESTUDIANTE: </strong>Doménica Merchán García\n",
    "    <br>\n",
    "</div>\n",
    "<div style=\"width: 50%; float: left\">\n",
    "    <br>\n",
    "    <strong align=\"center\">PRÁCTICA DE LABORATORIO</strong>\n",
    "    <br>\n",
    "    <br>\n",
    "    <br>\n",
    "    <strong>ASIGNATURA: </strong>Simulación\n",
    "    <br>\n",
    "    <strong>TÍTULO: </strong>Simulación de la propagación del COVID-19 en Ecuador\n",
    "    <br>\n",
    "    <br>\n",
    "    <br>\n",
    "</div>\n",
    "<strong><center>ACTIVIDADES DESARROLLADAS</center></strong>"
   ]
  },
  {
   "cell_type": "code",
   "execution_count": 1,
   "metadata": {},
   "outputs": [
    {
     "name": "stdout",
     "output_type": "stream",
     "text": [
      "pygame 2.0.1 (SDL 2.0.14, Python 3.8.5)\n",
      "Hello from the pygame community. https://www.pygame.org/contribute.html\n"
     ]
    }
   ],
   "source": [
    "import pandas as pd\n",
    "import numpy as np\n",
    "from random import randrange\n",
    "import pygame as pg"
   ]
  },
  {
   "cell_type": "markdown",
   "metadata": {},
   "source": [
    "El factor R0 del COVID-19 oscila entre 1,5 y 4,08. Con propósito de este trabajo se tomará el valor de 4,08 como el peor caso (Eisenberg, 2020). La probabilidad de muerte por COVID es del 6.3% (Sousa et. al, 2020)"
   ]
  },
  {
   "cell_type": "markdown",
   "metadata": {},
   "source": [
    "Primero se establecen los parámetros de entrada:\n",
    "- PM: Probabilidad de muerte por COVID\n",
    "- R0: Factor de intensidad del COVID\n",
    "- PI: Probabilidad de infección\n",
    "- PV: Probabilidad de vacunación\n",
    "- SPEED: Tiempo del día en milisegundos"
   ]
  },
  {
   "cell_type": "code",
   "execution_count": 2,
   "metadata": {},
   "outputs": [],
   "source": [
    "PM = 6.3\n",
    "R0 = 4.08\n",
    "PI = R0*10\n",
    "PV = 5\n",
    "SPEED = 50\n",
    "ROWS = 50\n",
    "COLS = 50"
   ]
  },
  {
   "cell_type": "markdown",
   "metadata": {},
   "source": [
    "Se crean métodos para obtener los vecinos inmediatos a una posición dada, simular el proceso de vacunación, y simular la muerte por COVID."
   ]
  },
  {
   "cell_type": "code",
   "execution_count": 3,
   "metadata": {},
   "outputs": [],
   "source": [
    "def get_vecinos(x, y):\n",
    "    incx = randrange(3)\n",
    "    incy = randrange(3)\n",
    "    incx = (incx * 1) - 1\n",
    "    incy = (incy * 1) - 1\n",
    "    x2 = x + incx\n",
    "    y2 = y + incy\n",
    "    #Validar limites\n",
    "    if x2 < 0:\n",
    "        x2 = 0\n",
    "    if x2 >= COLS:\n",
    "        x2 = COLS - 1\n",
    "    if y2 < 0:\n",
    "        y2 = 0\n",
    "    if y2 >= ROWS:\n",
    "        y2 = ROWS - 1\n",
    "    return [x2, y2]"
   ]
  },
  {
   "cell_type": "code",
   "execution_count": 4,
   "metadata": {},
   "outputs": [],
   "source": [
    "def vacunar():\n",
    "    for x in range(COLS):\n",
    "        for y in range(ROWS):\n",
    "            if randrange(99) < PV:\n",
    "                states[x][y] = 1"
   ]
  },
  {
   "cell_type": "code",
   "execution_count": 5,
   "metadata": {},
   "outputs": [],
   "source": [
    "def contar_muertes():\n",
    "    count = 0\n",
    "    for x in range(COLS):\n",
    "        for y in range(ROWS):\n",
    "            if states[x][y] == -1:\n",
    "                count +=  1\n",
    "    return count"
   ]
  },
  {
   "cell_type": "markdown",
   "metadata": {},
   "source": [
    "Se establecen los valores iniciales para la simulación, como la posición inicial del primer infectado. Luego se establecen variables para contabilizar la cantidad de muertes y el número de iteraciones para la simulación. "
   ]
  },
  {
   "cell_type": "code",
   "execution_count": 6,
   "metadata": {},
   "outputs": [],
   "source": [
    "states = [[0] * COLS for i1 in range(ROWS)]\n",
    "states_temp = states.copy()\n",
    "states[randrange(50)][randrange(50)] = 10 \n",
    "it = 0 \n",
    "total_muerte = 0\n",
    "vacunar()"
   ]
  },
  {
   "cell_type": "markdown",
   "metadata": {},
   "source": [
    "Se definen los colores a usarse para los diferentes casos:\n",
    "- WHITE: color del fondo\n",
    "- BLUE: No infectado\n",
    "- GREEN: Recuperado\n",
    "- BLACK: Muerto"
   ]
  },
  {
   "cell_type": "code",
   "execution_count": 7,
   "metadata": {},
   "outputs": [],
   "source": [
    "WHITE = (255, 255, 255) \n",
    "BLUE = (0, 0, 255)\n",
    "GREEN = (0, 247, 0)\n",
    "BLACK = (0, 0, 0)"
   ]
  },
  {
   "cell_type": "markdown",
   "metadata": {},
   "source": [
    "Se inicia pygame y se genera una ventana donde se mostrará el avance de la simulación de acuerdo a las iteraciones con los parametros definidos anteriormente. "
   ]
  },
  {
   "cell_type": "code",
   "execution_count": 8,
   "metadata": {},
   "outputs": [
    {
     "data": {
      "text/plain": [
       "<rect(0, 0, 800, 750)>"
      ]
     },
     "execution_count": 8,
     "metadata": {},
     "output_type": "execute_result"
    }
   ],
   "source": [
    "pg.init() #Incializo el motor de juegos pygame\n",
    "pg.font.init() #Inicializo el tipo de letra\n",
    "display=pg.display.set_mode((800,750),0,32) #Tamanio de la ventana\n",
    "pg.display.set_caption(\"Simulación de la propagación del COVID-19 en Ecuador\")# Titulo\n",
    "font=pg.font.SysFont('Times New Roman', 40) # Tipo de letra\n",
    "display.fill(WHITE)"
   ]
  },
  {
   "cell_type": "code",
   "execution_count": null,
   "metadata": {},
   "outputs": [],
   "source": [
    "while True:\n",
    "    pg.time.delay(SPEED) # Sleep o pausa\n",
    "    it = it + 1\n",
    "    if it <= 10000 and it >= 2:\n",
    "        states_temp = states.copy() #Copia de la matriz\n",
    "        #Recorrera la matriz\n",
    "        for x in range(COLS):\n",
    "            for y in range(ROWS):\n",
    "                state = states[x][y]\n",
    "                if state == -1:\n",
    "                    pass\n",
    "                if state >= 10: # Numero de dias de contagio\n",
    "                    states_temp[x][y] = state + 1\n",
    "                if state >= 20:\n",
    "                    if randrange(99) < PM: # Genero un randomico para verificar si fallece o se recupera\n",
    "                        states_temp[x][y] = -1 # Muere\n",
    "                    else:\n",
    "                        states_temp[x][y] = 1 # Cura o recupera\n",
    "                if state >= 10 and state <= 20: # Rango de infectado\n",
    "                    if randrange(99) < PI: # Infecto a las personas cercanas entre  10 y 20 \n",
    "                        neighbour = get_vecinos(x, y) #Obtenemos los vecinos a contagiar\n",
    "                        x2 = neighbour[0]\n",
    "                        y2 = neighbour[1]\n",
    "                        neigh_state = states[x2][y2]\n",
    "                        if neigh_state == 0: #Verifico que este sano\n",
    "                            states_temp[x2][y2] = 10 # Contagia\n",
    "        states = states_temp.copy()\n",
    "        total_muerte = contar_muertes() # contar el numero de muertos\n",
    "        \n",
    "    pg.draw.rect(display, WHITE, (300, 30, 260, 50)) # Grafico el fondo\n",
    "    textsurface = font.render(\"Total muertes: \"+ str(total_muerte), False, (255,160,122)) #El numero de muertos\n",
    "    display.blit(textsurface, (250, 30)) # Graficar el texto de muertes\n",
    "    #Graficar el estado del paciente matriz\n",
    "    for x in range(COLS):\n",
    "        for y in range(ROWS):\n",
    "            if states[x][y] == 0:\n",
    "                color = BLUE # No infectado\n",
    "            if states[x][y] == 1:\n",
    "                color = GREEN # Recupero\n",
    "            if states[x][y] >= 10:\n",
    "                color = (states[x][y] * 12, 50, 50) # Injectado - Rojo\n",
    "            if states[x][y] == -1:\n",
    "                color = BLACK # Muerto\n",
    "            pg.draw.circle(display, color, (100 + x * 12 + 5, 100 + y * 12 + 5), 5)\n",
    "            pg.draw.rect(display, WHITE, (100 + x * 12 + 3, 100 + y * 12 + 4, 1, 1))\n",
    "    #Escuachar los eventos del teclado\n",
    "    for event in pg.event.get():\n",
    "        if event.type == pg.KEYDOWN and event.key == pg.K_ESCAPE: #Presiona y Escape\n",
    "            pg.image.save(display, \"img.png\")  \n",
    "            pg.quit() #Termino simulacion\n",
    "        if event.type == pg.KEYDOWN and event.key == pg.K_SPACE: #Presiona y espacio\n",
    "            #Reiniciamos valores\n",
    "            states = [[0] * nb_cols for i1 in range(nb_rows)]\n",
    "            states_temp = states.copy()\n",
    "            states[5][5] = 10\n",
    "            it = 0\n",
    "            total_muerte = 0\n",
    "            vacunar() #Llamar a la funcion vacunar  \n",
    "    pg.display.update()# Mandar actualizar la ventana"
   ]
  },
  {
   "cell_type": "markdown",
   "metadata": {},
   "source": [
    "<img src=\"img.png\" width=\"500\" align=\"center\">"
   ]
  },
  {
   "cell_type": "markdown",
   "metadata": {},
   "source": [
    "Para un factor R0=4.08 y una probabilidad de vacunación del 5% se tiene que habrá un total de 170 muertes por COVID. Para realizar otra prueba se establecen los parámetros de R0=1.5 (como el mejor de los casos) y la probabilidad de vacunación al 15%."
   ]
  },
  {
   "cell_type": "code",
   "execution_count": 9,
   "metadata": {},
   "outputs": [],
   "source": [
    "R0 = 1.5\n",
    "PV = 25"
   ]
  },
  {
   "cell_type": "code",
   "execution_count": 10,
   "metadata": {},
   "outputs": [
    {
     "ename": "error",
     "evalue": "video system not initialized",
     "output_type": "error",
     "traceback": [
      "\u001b[1;31m---------------------------------------------------------------------------\u001b[0m",
      "\u001b[1;31merror\u001b[0m                                     Traceback (most recent call last)",
      "\u001b[1;32m<ipython-input-10-2bf35f303647>\u001b[0m in \u001b[0;36m<module>\u001b[1;34m\u001b[0m\n\u001b[0;32m     57\u001b[0m             \u001b[0mtotal_muerte\u001b[0m \u001b[1;33m=\u001b[0m \u001b[1;36m0\u001b[0m\u001b[1;33m\u001b[0m\u001b[1;33m\u001b[0m\u001b[0m\n\u001b[0;32m     58\u001b[0m             \u001b[0mvacunar\u001b[0m\u001b[1;33m(\u001b[0m\u001b[1;33m)\u001b[0m \u001b[1;31m#Llamar a la funcion vacunar\u001b[0m\u001b[1;33m\u001b[0m\u001b[1;33m\u001b[0m\u001b[0m\n\u001b[1;32m---> 59\u001b[1;33m     \u001b[0mpg\u001b[0m\u001b[1;33m.\u001b[0m\u001b[0mdisplay\u001b[0m\u001b[1;33m.\u001b[0m\u001b[0mupdate\u001b[0m\u001b[1;33m(\u001b[0m\u001b[1;33m)\u001b[0m\u001b[1;31m# Mandar actualizar la ventana\u001b[0m\u001b[1;33m\u001b[0m\u001b[1;33m\u001b[0m\u001b[0m\n\u001b[0m",
      "\u001b[1;31merror\u001b[0m: video system not initialized"
     ]
    }
   ],
   "source": [
    "while True:\n",
    "    pg.time.delay(SPEED) # Sleep o pausa\n",
    "    it = it + 1\n",
    "    if it <= 10000 and it >= 2:\n",
    "        states_temp = states.copy() #Copia de la matriz\n",
    "        #Recorrera la matriz\n",
    "        for x in range(COLS):\n",
    "            for y in range(ROWS):\n",
    "                state = states[x][y]\n",
    "                if state == -1:\n",
    "                    pass\n",
    "                if state >= 10: # Numero de dias de contagio\n",
    "                    states_temp[x][y] = state + 1\n",
    "                if state >= 20:\n",
    "                    if randrange(99) < PM: # Genero un randomico para verificar si fallece o se recupera\n",
    "                        states_temp[x][y] = -1 # Muere\n",
    "                    else:\n",
    "                        states_temp[x][y] = 1 # Cura o recupera\n",
    "                if state >= 10 and state <= 20: # Rango de infectado\n",
    "                    if randrange(99) < PI: # Infecto a las personas cercanas entre  10 y 20 \n",
    "                        neighbour = get_vecinos(x, y) #Obtenemos los vecinos a contagiar\n",
    "                        x2 = neighbour[0]\n",
    "                        y2 = neighbour[1]\n",
    "                        neigh_state = states[x2][y2]\n",
    "                        if neigh_state == 0: #Verifico que este sano\n",
    "                            states_temp[x2][y2] = 10 # Contagia\n",
    "        states = states_temp.copy()\n",
    "        total_muerte = contar_muertes() # contar el numero de muertos\n",
    "        \n",
    "    pg.draw.rect(display, WHITE, (300, 30, 260, 50)) # Grafico el fondo\n",
    "    textsurface = font.render(\"Total muertes: \"+ str(total_muerte), False, (255,160,122)) #El numero de muertos\n",
    "    display.blit(textsurface, (250, 30)) # Graficar el texto de muertes\n",
    "    #Graficar el estado del paciente matriz\n",
    "    for x in range(COLS):\n",
    "        for y in range(ROWS):\n",
    "            if states[x][y] == 0:\n",
    "                color = BLUE # No infectado\n",
    "            if states[x][y] == 1:\n",
    "                color = GREEN # Recupero\n",
    "            if states[x][y] >= 10:\n",
    "                color = (states[x][y] * 12, 50, 50) # Injectado - Rojo\n",
    "            if states[x][y] == -1:\n",
    "                color = BLACK # Muerto\n",
    "            pg.draw.circle(display, color, (100 + x * 12 + 5, 100 + y * 12 + 5), 5)\n",
    "            pg.draw.rect(display, WHITE, (100 + x * 12 + 3, 100 + y * 12 + 4, 1, 1))\n",
    "    #Escuachar los eventos del teclado\n",
    "    for event in pg.event.get():\n",
    "        if event.type == pg.KEYDOWN and event.key == pg.K_ESCAPE: #Presiona y Escape\n",
    "            pg.image.save(display, \"img2.png\")  \n",
    "            pg.quit() #Termino simulacion\n",
    "        if event.type == pg.KEYDOWN and event.key == pg.K_SPACE: #Presiona y espacio\n",
    "            #Reiniciamos valores\n",
    "            states = [[0] * nb_cols for i1 in range(nb_rows)]\n",
    "            states_temp = states.copy()\n",
    "            states[5][5] = 10\n",
    "            it = 0\n",
    "            total_muerte = 0\n",
    "            vacunar() #Llamar a la funcion vacunar  \n",
    "    pg.display.update()# Mandar actualizar la ventana"
   ]
  },
  {
   "cell_type": "markdown",
   "metadata": {},
   "source": [
    "<img src=\"img2.png\" width=\"500\" align=\"center\">"
   ]
  },
  {
   "cell_type": "markdown",
   "metadata": {},
   "source": [
    "Como se muestra al final de la simulación, el total de muertes por COVID disminuye con los nuevos parámetros ingresados. Esto va acorde con lo esperado, puesto a que se ha aumentado la probabilidad de vacunación para evitar la muerte por COVID, y se ha disminuido el factor de intensidad del brote."
   ]
  },
  {
   "cell_type": "markdown",
   "metadata": {},
   "source": [
    "### Bibliografía\n",
    "Eisenberg J. (2020) Coronavirus: qué es el factor R0 con el que se mide la intensidad de un brote como el coronavirus y su potencial pandémico. BBC. https://www.bbc.com/mundo/noticias-51469198\n",
    "\n",
    "Sousa, G., Garces, T., Cestari, V., Florêncio, R., Moreira, T., & Pereira, M. (2020). Mortality and survival of COVID-19. Epidemiology and Infection, 148, E123. doi:10.1017/S0950268820001405"
   ]
  }
 ],
 "metadata": {
  "kernelspec": {
   "display_name": "Python 3",
   "language": "python",
   "name": "python3"
  },
  "language_info": {
   "codemirror_mode": {
    "name": "ipython",
    "version": 3
   },
   "file_extension": ".py",
   "mimetype": "text/x-python",
   "name": "python",
   "nbconvert_exporter": "python",
   "pygments_lexer": "ipython3",
   "version": "3.8.5"
  }
 },
 "nbformat": 4,
 "nbformat_minor": 4
}
