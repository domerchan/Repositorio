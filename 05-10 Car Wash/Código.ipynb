{
 "cells": [
  {
   "cell_type": "markdown",
   "metadata": {},
   "source": [
    "<div style=\"width: 50%; float: left\">\n",
    "    <img src=\"../ups2.png\" width=\"217\" align=\"center\">\n",
    "    <br>\n",
    "    <strong>CARRERA: </strong> Computación\n",
    "    <br>\n",
    "    <strong>NRO. PRÁCTICA: </strong>6\n",
    "    <br>\n",
    "    <strong>ESTUDIANTE: </strong>Doménica Merchán García\n",
    "    <br>\n",
    "</div>\n",
    "<div style=\"width: 50%; float: left\">\n",
    "    <br>\n",
    "    <strong align=\"center\">PRÁCTICA DE LABORATORIO</strong>\n",
    "    <br>\n",
    "    <br>\n",
    "    <br>\n",
    "    <strong>ASIGNATURA: </strong>Simulación\n",
    "    <br>\n",
    "    <strong>TÍTULO: </strong>Simulación del lavado de autos\n",
    "    <br>\n",
    "    <br>\n",
    "    <br>\n",
    "</div>\n",
    "<strong><center>ACTIVIDADES DESARROLLADAS</center></strong>"
   ]
  },
  {
   "cell_type": "code",
   "execution_count": 1,
   "metadata": {},
   "outputs": [],
   "source": [
    "import simpy\n",
    "import random"
   ]
  },
  {
   "cell_type": "markdown",
   "metadata": {},
   "source": [
    "Se crea el proceso de llegada del vehículo al establecimiento del CarWash. Aquí se hace la reserva de los recursos que en este caso serían las máquinas para el lavado del auto."
   ]
  },
  {
   "cell_type": "code",
   "execution_count": 2,
   "metadata": {},
   "outputs": [],
   "source": [
    "def llegada(env, id, lavanderia):\n",
    "    print('Llega el auto: %s a la hora %.2f' % (id, env.now))\n",
    "    with lavanderia.maquina.request() as maquina:\n",
    "        yield maquina\n",
    "        yield env.process(lavanderia.ingreso(id))\n",
    "        print('Auto: %s ingrsa a las %.2f.' % (id, env.now))\n",
    "        yield env.process(lavanderia.lavado(id))\n",
    "        print(\"Auto %s lavado: %.2f.\" % (id, env.now))\n",
    "        env.process(lavanderia.secado(id))\n",
    "        print(\"Auto %s secado: %.2f.\" % (id, env.now))"
   ]
  },
  {
   "cell_type": "markdown",
   "metadata": {},
   "source": [
    "Se crea la clase CarWash que representa el establecimiento para simular los procesos de ingreso del auto, lavado y secado."
   ]
  },
  {
   "cell_type": "code",
   "execution_count": 3,
   "metadata": {},
   "outputs": [],
   "source": [
    "class CarWash(object):\n",
    "    def __init__(self, environment, maquinas, lavado):            \n",
    "        self.env = environment\n",
    "        self.maquina = simpy.Resource(environment, maquinas)\n",
    "        self.tLavado = lavado\n",
    "        \n",
    "    def ingreso(self, auto):\n",
    "        print('El auto %s ingresa a las %.2f.' % (auto, env.now))\n",
    "        yield self.env.timeout(random.randint(ingreso, ingreso +4))\n",
    "        \n",
    "    def lavado(self, auto):\n",
    "        print('El auto %s comienza el proceso de lavado a las %.2f.' % (auto, env.now))\n",
    "        yield self.env.timeout(random.randint(lavado-2, lavado+4))\n",
    "        \n",
    "    def secado(self, auto):\n",
    "        print('El auto %s comienza el proceso de secado a las %.2f.' % (auto, env.now))\n",
    "        yield self.env.timeout(random.randint(secado, secado+3))"
   ]
  },
  {
   "cell_type": "markdown",
   "metadata": {},
   "source": [
    "Generamos un método para la ejecución de la simulación con los recursos, el tiempo de lavado, y el intervalo de tiempo entre la llegada de otros autos al establecimiento."
   ]
  },
  {
   "cell_type": "code",
   "execution_count": 4,
   "metadata": {},
   "outputs": [],
   "source": [
    "def ejecutar_simulacion(env, maquinas, lavado, intervalo):\n",
    "    carwash = CarWash(env, maquinas, lavado)\n",
    "    for i in range(5):\n",
    "        env.process(llegada(env, 'Auto %d' % (i+1), carwash))\n",
    "        \n",
    "    while True:\n",
    "        yield env.timeout(random.randint(intervalo-2, intervalo+2))\n",
    "        i+=1\n",
    "        env.process(llegada(env, 'Auto %d' % (i+1), carwash))"
   ]
  },
  {
   "cell_type": "markdown",
   "metadata": {},
   "source": [
    "Establecemos los parámetros como la cantidad de máquinas (recursos) disponibles, los tiempos para le ingrseo, lavado y secado, y el tiempo total de la simulación."
   ]
  },
  {
   "cell_type": "code",
   "execution_count": 5,
   "metadata": {},
   "outputs": [],
   "source": [
    "maquinas = 4\n",
    "ingreso = 3\n",
    "lavado = 25\n",
    "secado = 15\n",
    "intervalo = 10\n",
    "tiempo_simulacion = 90"
   ]
  },
  {
   "cell_type": "code",
   "execution_count": 6,
   "metadata": {},
   "outputs": [
    {
     "name": "stdout",
     "output_type": "stream",
     "text": [
      "Llega el auto: Auto 1 a la hora 0.00\n",
      "Llega el auto: Auto 2 a la hora 0.00\n",
      "Llega el auto: Auto 3 a la hora 0.00\n",
      "Llega el auto: Auto 4 a la hora 0.00\n",
      "Llega el auto: Auto 5 a la hora 0.00\n",
      "El auto Auto 1 ingresa a las 0.00.\n",
      "El auto Auto 2 ingresa a las 0.00.\n",
      "El auto Auto 3 ingresa a las 0.00.\n",
      "El auto Auto 4 ingresa a las 0.00.\n",
      "Auto: Auto 1 ingrsa a las 3.00.\n",
      "El auto Auto 1 comienza el proceso de lavado a las 3.00.\n",
      "Auto: Auto 4 ingrsa a las 3.00.\n",
      "El auto Auto 4 comienza el proceso de lavado a las 3.00.\n",
      "Auto: Auto 3 ingrsa a las 5.00.\n",
      "El auto Auto 3 comienza el proceso de lavado a las 5.00.\n",
      "Auto: Auto 2 ingrsa a las 6.00.\n",
      "El auto Auto 2 comienza el proceso de lavado a las 6.00.\n",
      "Llega el auto: Auto 6 a la hora 12.00\n",
      "Llega el auto: Auto 7 a la hora 23.00\n",
      "Auto Auto 1 lavado: 26.00.\n",
      "Auto Auto 1 secado: 26.00.\n",
      "El auto Auto 1 comienza el proceso de secado a las 26.00.\n",
      "El auto Auto 5 ingresa a las 26.00.\n",
      "Auto Auto 4 lavado: 27.00.\n",
      "Auto Auto 4 secado: 27.00.\n",
      "El auto Auto 4 comienza el proceso de secado a las 27.00.\n",
      "El auto Auto 6 ingresa a las 27.00.\n",
      "Auto: Auto 5 ingrsa a las 29.00.\n",
      "El auto Auto 5 comienza el proceso de lavado a las 29.00.\n",
      "Llega el auto: Auto 8 a la hora 33.00\n",
      "Auto Auto 3 lavado: 33.00.\n",
      "Auto Auto 3 secado: 33.00.\n",
      "El auto Auto 3 comienza el proceso de secado a las 33.00.\n",
      "Auto Auto 2 lavado: 33.00.\n",
      "Auto Auto 2 secado: 33.00.\n",
      "El auto Auto 2 comienza el proceso de secado a las 33.00.\n",
      "Auto: Auto 6 ingrsa a las 33.00.\n",
      "El auto Auto 6 comienza el proceso de lavado a las 33.00.\n",
      "El auto Auto 7 ingresa a las 33.00.\n",
      "El auto Auto 8 ingresa a las 33.00.\n",
      "Auto: Auto 7 ingrsa a las 40.00.\n",
      "El auto Auto 7 comienza el proceso de lavado a las 40.00.\n",
      "Auto: Auto 8 ingrsa a las 40.00.\n",
      "El auto Auto 8 comienza el proceso de lavado a las 40.00.\n",
      "Llega el auto: Auto 9 a la hora 42.00\n",
      "Llega el auto: Auto 10 a la hora 52.00\n",
      "Auto Auto 6 lavado: 57.00.\n",
      "Auto Auto 6 secado: 57.00.\n",
      "El auto Auto 6 comienza el proceso de secado a las 57.00.\n",
      "El auto Auto 9 ingresa a las 57.00.\n",
      "Auto Auto 5 lavado: 58.00.\n",
      "Auto Auto 5 secado: 58.00.\n",
      "El auto Auto 5 comienza el proceso de secado a las 58.00.\n",
      "El auto Auto 10 ingresa a las 58.00.\n",
      "Auto: Auto 10 ingrsa a las 61.00.\n",
      "El auto Auto 10 comienza el proceso de lavado a las 61.00.\n",
      "Auto: Auto 9 ingrsa a las 63.00.\n",
      "El auto Auto 9 comienza el proceso de lavado a las 63.00.\n",
      "Llega el auto: Auto 11 a la hora 64.00\n",
      "Auto Auto 7 lavado: 68.00.\n",
      "Auto Auto 7 secado: 68.00.\n",
      "El auto Auto 7 comienza el proceso de secado a las 68.00.\n",
      "El auto Auto 11 ingresa a las 68.00.\n",
      "Auto Auto 8 lavado: 69.00.\n",
      "Auto Auto 8 secado: 69.00.\n",
      "El auto Auto 8 comienza el proceso de secado a las 69.00.\n",
      "Auto: Auto 11 ingrsa a las 74.00.\n",
      "El auto Auto 11 comienza el proceso de lavado a las 74.00.\n",
      "Llega el auto: Auto 12 a la hora 75.00\n",
      "El auto Auto 12 ingresa a las 75.00.\n",
      "Auto: Auto 12 ingrsa a las 80.00.\n",
      "El auto Auto 12 comienza el proceso de lavado a las 80.00.\n",
      "Llega el auto: Auto 13 a la hora 84.00\n",
      "Auto Auto 10 lavado: 86.00.\n",
      "Auto Auto 10 secado: 86.00.\n",
      "El auto Auto 10 comienza el proceso de secado a las 86.00.\n",
      "El auto Auto 13 ingresa a las 86.00.\n"
     ]
    }
   ],
   "source": [
    "random.seed(6)\n",
    "\n",
    "env = simpy.Environment()\n",
    "env.process(ejecutar_simulacion(env, maquinas, lavado, intervalo))\n",
    "\n",
    "env.run(until=tiempo_simulacion)"
   ]
  },
  {
   "cell_type": "code",
   "execution_count": null,
   "metadata": {},
   "outputs": [],
   "source": []
  }
 ],
 "metadata": {
  "kernelspec": {
   "display_name": "Python 3",
   "language": "python",
   "name": "python3"
  },
  "language_info": {
   "codemirror_mode": {
    "name": "ipython",
    "version": 3
   },
   "file_extension": ".py",
   "mimetype": "text/x-python",
   "name": "python",
   "nbconvert_exporter": "python",
   "pygments_lexer": "ipython3",
   "version": "3.8.5"
  }
 },
 "nbformat": 4,
 "nbformat_minor": 4
}
